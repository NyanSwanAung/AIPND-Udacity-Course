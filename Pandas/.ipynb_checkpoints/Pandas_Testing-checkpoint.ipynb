{
 "cells": [
  {
   "cell_type": "code",
   "execution_count": null,
   "metadata": {},
   "outputs": [],
   "source": [
    "import pandas as pd"
   ]
  },
  {
   "cell_type": "code",
   "execution_count": null,
   "metadata": {},
   "outputs": [],
   "source": [
    "groceries = pd.Series(data = [30, 6, 'Yes', 'No'], index = ['eggs', 'apple', 'bread', 'milk'])\n",
    "groceries"
   ]
  },
  {
   "cell_type": "code",
   "execution_count": null,
   "metadata": {},
   "outputs": [],
   "source": [
    "print('Groceries has shape:', groceries.shape)\n",
    "print('Groceries has dimension:', groceries.ndim)\n",
    "print('Groceries has a total of', groceries.size, 'elements')"
   ]
  },
  {
   "cell_type": "code",
   "execution_count": null,
   "metadata": {},
   "outputs": [],
   "source": [
    "print('The data in Groceries is:', groceries.values)\n",
    "print('The index of Groceries is:', groceries.index)"
   ]
  },
  {
   "cell_type": "code",
   "execution_count": null,
   "metadata": {},
   "outputs": [],
   "source": [
    "'egg' in groceries"
   ]
  },
  {
   "cell_type": "markdown",
   "metadata": {},
   "source": [
    "## 05. Accessing and Deleting Elements in Pandas Series"
   ]
  },
  {
   "cell_type": "markdown",
   "metadata": {},
   "source": [
    "### Accessing"
   ]
  },
  {
   "cell_type": "code",
   "execution_count": null,
   "metadata": {},
   "outputs": [],
   "source": [
    "print('Do we need milk and bread:\\n', groceries[['milk', 'bread']]) #mutliple access\n",
    "print('How many eggs do we need to buy:', groceries['eggs']) #single acess\n",
    "print()\n",
    "\n",
    "# we use multiple numerical indices\n",
    "print('How many eggs and apples do we need to buy:\\n',  groceries[[0, 1]]) \n",
    "\n",
    "# We use a negative numerical index\n",
    "print('Do we need bread:\\n', groceries[[-1]]) \n",
    "print()\n",
    "\n",
    "# We use a single numerical index\n",
    "print('How many eggs do we need to buy:', groceries[0]) \n",
    "print()\n",
    "# we use iloc to access multiple numerical indices\n",
    "print('Do we need milk and bread:\\n', groceries.iloc[[2, 3]]) \n",
    "\n",
    "# We change the number of eggs to 2\n",
    "groceries['eggs'] = 2\n"
   ]
  },
  {
   "cell_type": "markdown",
   "metadata": {},
   "source": [
    "### Deleting"
   ]
  },
  {
   "cell_type": "code",
   "execution_count": null,
   "metadata": {},
   "outputs": [],
   "source": [
    "# Series.drop('item') does not modify the original series\n",
    "# Series.drop('item', inplace = True) modifies the original series"
   ]
  },
  {
   "cell_type": "code",
   "execution_count": null,
   "metadata": {},
   "outputs": [],
   "source": [
    "# We remove apples from our grocery list. The drop function removes elements out of place\n",
    "print()\n",
    "print('We remove apples (out of place):\\n', groceries.drop('apples'))"
   ]
  },
  {
   "cell_type": "markdown",
   "metadata": {},
   "source": [
    "## 06. Arithmetic Operations on Pandas Series"
   ]
  },
  {
   "cell_type": "code",
   "execution_count": null,
   "metadata": {},
   "outputs": [],
   "source": [
    "fruits = pd.Series(data = [10, 3, 9], index = ['apple', 'orange',  'banana'])\n",
    "print('fruits + 2\\n', fruits + 2)\n",
    "print()\n",
    "print('fruits - 2\\n', fruits - 2)\n",
    "print()\n",
    "print('fruits * 2\\n', fruits * 2)\n",
    "print()\n",
    "print('fruits / 2\\n', fruits / 2)\n",
    "print()\n",
    "\n",
    "\n",
    "# We apply different mathematical functions to all elements of fruits\n",
    "print()\n",
    "print('EXP(X) = \\n', np.exp(fruits))\n",
    "print() \n",
    "print('SQRT(X) =\\n', np.sqrt(fruits))\n",
    "print()\n",
    "print('POW(X,2) =\\n',np.power(fruits,2)) # We raise all elements of fruits to the power of 2\n",
    "\n",
    "\n",
    "# We add 2 only to the bananas\n",
    "print('Amount of bananas + 2 = ', fruits['bananas'] + 2)\n",
    "print()\n",
    "\n",
    "# We subtract 2 from apples\n",
    "print('Amount of apples - 2 = ', fruits.iloc[0] - 2)\n",
    "print()\n",
    "\n",
    "# We multiply apples and oranges by 2\n",
    "print('We double the amount of apples and oranges:\\n', fruits[['apples', 'oranges']] * 2)\n",
    "print()\n",
    "\n",
    "# We divide apples and oranges by 2\n",
    "print('We half the amount of apples and oranges:\\n', fruits.loc[['apples', 'oranges']] / 2)\n",
    "\n",
    "groceries * 2"
   ]
  },
  {
   "cell_type": "markdown",
   "metadata": {},
   "source": [
    "### Lesson 08 - Creating Pandas DataFrames"
   ]
  },
  {
   "cell_type": "code",
   "execution_count": null,
   "metadata": {},
   "outputs": [],
   "source": [
    "# Creating dictionary using. Pandas Series\n",
    "item1 = {'Brian' : pd.Series(data = [300, 400, 500, 1000],  index = ['watch', 'wallet', 'whooper', 'kitty']), \n",
    "         'David' : pd.Series(data = [100, 200, 300, 400], index = ['watch', 'wallet', 'ice-cream', 'books'])}\n",
    "\n",
    "# Creating dictionary using arrays \n",
    "item2 = {'Integers' : [1, 2, 3], \n",
    "         'Floating points' : [1.1 , 1.2, 1.3]}\n",
    "\n",
    "#Creating python dictionaries\n",
    "item3 = [{'bikes' : 100, 'cars' : 200, 'planes' : 1000}, \n",
    "         {'beer' : 4, 'speed' : 3, 'alovera' : 7}]\n",
    "\n",
    "shopping_carts = pd.DataFrame(item1)\n",
    "print('shopping_carts has shape:', shopping_carts.shape)\n",
    "print('shopping_carts has dimension:', shopping_carts.ndim)\n",
    "print('shopping_carts has a total of:', shopping_carts.size, 'elements')\n",
    "print()\n",
    "print('The data in shopping_carts is:\\n', shopping_carts.values)\n",
    "print()\n",
    "print('The row index in shopping_carts is:', shopping_carts.index)\n",
    "print()\n",
    "print('The column index in shopping_carts is:', shopping_carts.columns)\n",
    "\n",
    "# df1 = pd.DataFrame(item1, columns = ['Brian'])\n",
    "# df1 = pd.DataFrame(item1, index = ['wallet', 'watch'])\n",
    "# df1 = pd.DataFrame(item1, index = ['wallet', 'watch'], columns = ['Brian'])\n",
    "\n",
    "df2 = pd.DataFrame(item2)\n",
    "#df2 = pd.DataFrame(item2, index = ['one', 'two', 'three'] )\n"
   ]
  },
  {
   "cell_type": "markdown",
   "metadata": {},
   "source": [
    "## Lesson 09 - Accessing Elements in Pandas DataFrames"
   ]
  },
  {
   "cell_type": "code",
   "execution_count": null,
   "metadata": {},
   "outputs": [],
   "source": [
    "store_dict = [{'shirts' : 10, 'jeans' : 10, 'watches' : 15, 'shoes' :  20},\n",
    "              {'shirts' : 20, 'jeans' : 25, 'watches' : 5, 'shoes' :  10}]\n",
    "store_df = pd.DataFrame(store_dict, index = ['store1', 'store2'])\n"
   ]
  },
  {
   "cell_type": "code",
   "execution_count": null,
   "metadata": {},
   "outputs": [],
   "source": [
    "store_df[['shirts', 'shoes']]\n",
    "store_df['shirts']['store1']  # dataframe[column][row].\n",
    "\n",
    "# Inserting\n",
    "store_df['swimsuit'] = [15, 20]\n",
    "store_df['tanktops'] = store_df['jeans'] + store_df['shoes']\n",
    "\n",
    "newStore_dict = pd.Series(data = [1, 2, 3, 4,  5, 6],  index = ['shirts', 'jeans', 'watches', 'shoes',  'swimsuit', 'tanktops'])\n",
    "newStore_df = pd.DataFrame(store_dict, index = ['store3', 'store4'])\n",
    "\n",
    "store_df = store_df.append(newStore_df)"
   ]
  },
  {
   "cell_type": "code",
   "execution_count": null,
   "metadata": {},
   "outputs": [],
   "source": [
    "# dataframe.insert(loc,label,data)\n",
    "store_df.insert(4, 'new-shoes', store_df['watches'][1:]) # insert a new column using data from particular rows in the watches column"
   ]
  },
  {
   "cell_type": "code",
   "execution_count": null,
   "metadata": {},
   "outputs": [],
   "source": [
    "store_df.set_index('shoes')"
   ]
  },
  {
   "cell_type": "code",
   "execution_count": null,
   "metadata": {},
   "outputs": [],
   "source": []
  },
  {
   "cell_type": "code",
   "execution_count": null,
   "metadata": {},
   "outputs": [],
   "source": [
    "# delete columns and indices \n",
    "store_items.pop('new watches')\n",
    "store_items = store_items.drop(['watches', 'shoes'], axis = 1)\n",
    "store_items = store_items.drop(store_items.columns, axis = 1, inplace = True) # delete all columns\n",
    "store_items = store_items.drop(store_items.index, axis = 1, inplace = True) # delete all rows \n",
    "\n",
    "# renaming columns and index \n",
    "\n",
    "store_items.rename = (column)"
   ]
  },
  {
   "cell_type": "code",
   "execution_count": null,
   "metadata": {},
   "outputs": [],
   "source": []
  }
 ],
 "metadata": {
  "kernelspec": {
   "display_name": "Python [conda env:jupyter1] *",
   "language": "python",
   "name": "conda-env-jupyter1-py"
  },
  "language_info": {
   "codemirror_mode": {
    "name": "ipython",
    "version": 3
   },
   "file_extension": ".py",
   "mimetype": "text/x-python",
   "name": "python",
   "nbconvert_exporter": "python",
   "pygments_lexer": "ipython3",
   "version": "3.6.8"
  }
 },
 "nbformat": 4,
 "nbformat_minor": 4
}
