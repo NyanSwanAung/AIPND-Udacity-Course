{
 "cells": [
  {
   "cell_type": "code",
   "execution_count": 160,
   "metadata": {},
   "outputs": [],
   "source": [
    "import pandas as pd"
   ]
  },
  {
   "cell_type": "code",
   "execution_count": null,
   "metadata": {},
   "outputs": [],
   "source": [
    "groceries = pd.Series(data = [30, 6, 'Yes', 'No'], index = ['eggs', 'apple', 'bread', 'milk'])\n",
    "groceries"
   ]
  },
  {
   "cell_type": "code",
   "execution_count": null,
   "metadata": {},
   "outputs": [],
   "source": [
    "print('Groceries has shape:', groceries.shape)\n",
    "print('Groceries has dimension:', groceries.ndim)\n",
    "print('Groceries has a total of', groceries.size, 'elements')"
   ]
  },
  {
   "cell_type": "code",
   "execution_count": null,
   "metadata": {},
   "outputs": [],
   "source": [
    "print('The data in Groceries is:', groceries.values)\n",
    "print('The index of Groceries is:', groceries.index)"
   ]
  },
  {
   "cell_type": "code",
   "execution_count": null,
   "metadata": {},
   "outputs": [],
   "source": [
    "'egg' in groceries"
   ]
  },
  {
   "cell_type": "markdown",
   "metadata": {},
   "source": [
    "## 05. Accessing and Deleting Elements in Pandas Series"
   ]
  },
  {
   "cell_type": "markdown",
   "metadata": {},
   "source": [
    "### Accessing"
   ]
  },
  {
   "cell_type": "code",
   "execution_count": null,
   "metadata": {},
   "outputs": [],
   "source": [
    "print('Do we need milk and bread:\\n', groceries[['milk', 'bread']]) #mutliple access\n",
    "print('How many eggs do we need to buy:', groceries['eggs']) #single acess\n",
    "print()\n",
    "\n",
    "# we use multiple numerical indices\n",
    "print('How many eggs and apples do we need to buy:\\n',  groceries[[0, 1]]) \n",
    "\n",
    "# We use a negative numerical index\n",
    "print('Do we need bread:\\n', groceries[[-1]]) \n",
    "print()\n",
    "\n",
    "# We use a single numerical index\n",
    "print('How many eggs do we need to buy:', groceries[0]) \n",
    "print()\n",
    "# we use iloc to access multiple numerical indices\n",
    "print('Do we need milk and bread:\\n', groceries.iloc[[2, 3]]) \n",
    "\n",
    "# We change the number of eggs to 2\n",
    "groceries['eggs'] = 2\n"
   ]
  },
  {
   "cell_type": "markdown",
   "metadata": {},
   "source": [
    "### Deleting"
   ]
  },
  {
   "cell_type": "code",
   "execution_count": null,
   "metadata": {},
   "outputs": [],
   "source": [
    "# Series.drop('item') does not modify the original series\n",
    "# Series.drop('item', inplace = True) modifies the original series"
   ]
  },
  {
   "cell_type": "code",
   "execution_count": null,
   "metadata": {},
   "outputs": [],
   "source": [
    "# We remove apples from our grocery list. The drop function removes elements out of place\n",
    "print()\n",
    "print('We remove apples (out of place):\\n', groceries.drop('apples'))"
   ]
  },
  {
   "cell_type": "markdown",
   "metadata": {},
   "source": [
    "## 06. Arithmetic Operations on Pandas Series"
   ]
  },
  {
   "cell_type": "code",
   "execution_count": null,
   "metadata": {},
   "outputs": [],
   "source": [
    "fruits = pd.Series(data = [10, 3, 9], index = ['apple', 'orange',  'banana'])\n",
    "print('fruits + 2\\n', fruits + 2)\n",
    "print()\n",
    "print('fruits - 2\\n', fruits - 2)\n",
    "print()\n",
    "print('fruits * 2\\n', fruits * 2)\n",
    "print()\n",
    "print('fruits / 2\\n', fruits / 2)\n",
    "print()\n",
    "\n",
    "\n",
    "# We apply different mathematical functions to all elements of fruits\n",
    "print()\n",
    "print('EXP(X) = \\n', np.exp(fruits))\n",
    "print() \n",
    "print('SQRT(X) =\\n', np.sqrt(fruits))\n",
    "print()\n",
    "print('POW(X,2) =\\n',np.power(fruits,2)) # We raise all elements of fruits to the power of 2\n",
    "\n",
    "\n",
    "# We add 2 only to the bananas\n",
    "print('Amount of bananas + 2 = ', fruits['bananas'] + 2)\n",
    "print()\n",
    "\n",
    "# We subtract 2 from apples\n",
    "print('Amount of apples - 2 = ', fruits.iloc[0] - 2)\n",
    "print()\n",
    "\n",
    "# We multiply apples and oranges by 2\n",
    "print('We double the amount of apples and oranges:\\n', fruits[['apples', 'oranges']] * 2)\n",
    "print()\n",
    "\n",
    "# We divide apples and oranges by 2\n",
    "print('We half the amount of apples and oranges:\\n', fruits.loc[['apples', 'oranges']] / 2)\n",
    "\n",
    "groceries * 2"
   ]
  },
  {
   "cell_type": "markdown",
   "metadata": {},
   "source": [
    "### Lesson 08 - Creating Pandas DataFrames"
   ]
  },
  {
   "cell_type": "code",
   "execution_count": null,
   "metadata": {},
   "outputs": [],
   "source": [
    "# Creating dictionary using. Pandas Series\n",
    "item1 = {'Brian' : pd.Series(data = [300, 400, 500, 1000],  index = ['watch', 'wallet', 'whooper', 'kitty']), \n",
    "         'David' : pd.Series(data = [100, 200, 300, 400], index = ['watch', 'wallet', 'ice-cream', 'books'])}\n",
    "\n",
    "# Creating dictionary using arrays \n",
    "item2 = {'Integers' : [1, 2, 3], \n",
    "         'Floating points' : [1.1 , 1.2, 1.3]}\n",
    "\n",
    "#Creating python dictionaries\n",
    "item3 = [{'bikes' : 100, 'cars' : 200, 'planes' : 1000}, \n",
    "         {'beer' : 4, 'speed' : 3, 'alovera' : 7}]\n",
    "\n",
    "shopping_carts = pd.DataFrame(item1)\n",
    "print('shopping_carts has shape:', shopping_carts.shape)\n",
    "print('shopping_carts has dimension:', shopping_carts.ndim)\n",
    "print('shopping_carts has a total of:', shopping_carts.size, 'elements')\n",
    "print()\n",
    "print('The data in shopping_carts is:\\n', shopping_carts.values)\n",
    "print()\n",
    "print('The row index in shopping_carts is:', shopping_carts.index)\n",
    "print()\n",
    "print('The column index in shopping_carts is:', shopping_carts.columns)\n",
    "\n",
    "# df1 = pd.DataFrame(item1, columns = ['Brian'])\n",
    "# df1 = pd.DataFrame(item1, index = ['wallet', 'watch'])\n",
    "# df1 = pd.DataFrame(item1, index = ['wallet', 'watch'], columns = ['Brian'])\n",
    "\n",
    "df2 = pd.DataFrame(item2)\n",
    "#df2 = pd.DataFrame(item2, index = ['one', 'two', 'three'] )\n"
   ]
  },
  {
   "cell_type": "markdown",
   "metadata": {},
   "source": [
    "## Lesson 09 - Accessing Elements in Pandas DataFrames"
   ]
  },
  {
   "cell_type": "code",
   "execution_count": null,
   "metadata": {},
   "outputs": [],
   "source": [
    "store_dict = [{'shirts' : 10, 'jeans' : 10, 'watches' : 15, 'shoes' :  20},\n",
    "              {'shirts' : 20, 'jeans' : 25, 'watches' : 5, 'shoes' :  10}]\n",
    "store_df = pd.DataFrame(store_dict, index = ['store1', 'store2'])\n"
   ]
  },
  {
   "cell_type": "code",
   "execution_count": null,
   "metadata": {},
   "outputs": [],
   "source": [
    "store_df[['shirts', 'shoes']]\n",
    "store_df['shirts']['store1']  # dataframe[column][row].\n",
    "\n",
    "# Inserting\n",
    "store_df['swimsuit'] = [15, 20]\n",
    "store_df['tanktops'] = store_df['jeans'] + store_df['shoes']\n",
    "\n",
    "newStore_dict = pd.Series(data = [1, 2, 3, 4,  5, 6],  index = ['shirts', 'jeans', 'watches', 'shoes',  'swimsuit', 'tanktops'])\n",
    "newStore_df = pd.DataFrame(store_dict, index = ['store3', 'store4'])\n",
    "\n",
    "store_df = store_df.append(newStore_df)"
   ]
  },
  {
   "cell_type": "code",
   "execution_count": null,
   "metadata": {},
   "outputs": [],
   "source": [
    "# dataframe.insert(loc,label,data)\n",
    "store_df.insert(4, 'new-shoes', store_df['watches'][1:]) # insert a new column using data from particular rows in the watches column"
   ]
  },
  {
   "cell_type": "code",
   "execution_count": null,
   "metadata": {},
   "outputs": [],
   "source": [
    "store_df.set_index('shoes')"
   ]
  },
  {
   "cell_type": "code",
   "execution_count": null,
   "metadata": {},
   "outputs": [],
   "source": [
    "store_df"
   ]
  },
  {
   "cell_type": "code",
   "execution_count": null,
   "metadata": {},
   "outputs": [],
   "source": [
    "# Delete columns and indices \n",
    "store_items.pop('new watches')\n",
    "store_items = store_items.drop(['watches', 'shoes'], axis = 1)\n",
    "store_items = store_items.drop(store_items.columns, axis = 1, inplace = True) # delete all columns\n",
    "store_items = store_items.drop(store_items.index, axis = 1, inplace = True) # delete all rows \n",
    "\n",
    "# Renaming columns and index \n",
    "store_df = store_df.rename(columns = {'new-shoes' : 'newshoes'})\n",
    "store_df = store_df.rename(index = {'tanktops' : 'tankies'})"
   ]
  },
  {
   "cell_type": "markdown",
   "metadata": {},
   "source": [
    "## Lesson 10 - Dealing with NaN"
   ]
  },
  {
   "cell_type": "code",
   "execution_count": 161,
   "metadata": {},
   "outputs": [
    {
     "data": {
      "text/html": [
       "<div>\n",
       "<style scoped>\n",
       "    .dataframe tbody tr th:only-of-type {\n",
       "        vertical-align: middle;\n",
       "    }\n",
       "\n",
       "    .dataframe tbody tr th {\n",
       "        vertical-align: top;\n",
       "    }\n",
       "\n",
       "    .dataframe thead th {\n",
       "        text-align: right;\n",
       "    }\n",
       "</style>\n",
       "<table border=\"1\" class=\"dataframe\">\n",
       "  <thead>\n",
       "    <tr style=\"text-align: right;\">\n",
       "      <th></th>\n",
       "      <th>bikes</th>\n",
       "      <th>pants</th>\n",
       "      <th>watches</th>\n",
       "      <th>shirts</th>\n",
       "      <th>shoes</th>\n",
       "      <th>suits</th>\n",
       "      <th>glasses</th>\n",
       "    </tr>\n",
       "  </thead>\n",
       "  <tbody>\n",
       "    <tr>\n",
       "      <th>store 1</th>\n",
       "      <td>20</td>\n",
       "      <td>30</td>\n",
       "      <td>35</td>\n",
       "      <td>15.0</td>\n",
       "      <td>8</td>\n",
       "      <td>45.0</td>\n",
       "      <td>NaN</td>\n",
       "    </tr>\n",
       "    <tr>\n",
       "      <th>store 2</th>\n",
       "      <td>15</td>\n",
       "      <td>5</td>\n",
       "      <td>10</td>\n",
       "      <td>2.0</td>\n",
       "      <td>5</td>\n",
       "      <td>7.0</td>\n",
       "      <td>50.0</td>\n",
       "    </tr>\n",
       "    <tr>\n",
       "      <th>store 3</th>\n",
       "      <td>20</td>\n",
       "      <td>30</td>\n",
       "      <td>35</td>\n",
       "      <td>NaN</td>\n",
       "      <td>10</td>\n",
       "      <td>NaN</td>\n",
       "      <td>4.0</td>\n",
       "    </tr>\n",
       "  </tbody>\n",
       "</table>\n",
       "</div>"
      ],
      "text/plain": [
       "         bikes  pants  watches  shirts  shoes  suits  glasses\n",
       "store 1     20     30       35    15.0      8   45.0      NaN\n",
       "store 2     15      5       10     2.0      5    7.0     50.0\n",
       "store 3     20     30       35     NaN     10    NaN      4.0"
      ]
     },
     "execution_count": 161,
     "metadata": {},
     "output_type": "execute_result"
    }
   ],
   "source": [
    "items2 = [{'bikes': 20, 'pants': 30, 'watches': 35, 'shirts': 15, 'shoes':8, 'suits':45},\n",
    "          {'watches': 10, 'glasses': 50, 'bikes': 15, 'pants':5, 'shirts': 2, 'shoes':5, 'suits':7},\n",
    "          {'bikes': 20, 'pants': 30, 'watches': 35, 'glasses': 4, 'shoes':10}\n",
    "         ]\n",
    "store_items = pd.DataFrame(items2, index = ['store 1', 'store 2', 'store 3'])\n",
    "store_items"
   ]
  },
  {
   "cell_type": "code",
   "execution_count": 162,
   "metadata": {},
   "outputs": [
    {
     "data": {
      "text/html": [
       "<div>\n",
       "<style scoped>\n",
       "    .dataframe tbody tr th:only-of-type {\n",
       "        vertical-align: middle;\n",
       "    }\n",
       "\n",
       "    .dataframe tbody tr th {\n",
       "        vertical-align: top;\n",
       "    }\n",
       "\n",
       "    .dataframe thead th {\n",
       "        text-align: right;\n",
       "    }\n",
       "</style>\n",
       "<table border=\"1\" class=\"dataframe\">\n",
       "  <thead>\n",
       "    <tr style=\"text-align: right;\">\n",
       "      <th></th>\n",
       "      <th>bikes</th>\n",
       "      <th>pants</th>\n",
       "      <th>watches</th>\n",
       "      <th>shirts</th>\n",
       "      <th>shoes</th>\n",
       "      <th>suits</th>\n",
       "      <th>glasses</th>\n",
       "    </tr>\n",
       "  </thead>\n",
       "  <tbody>\n",
       "    <tr>\n",
       "      <th>store 1</th>\n",
       "      <td>20.0</td>\n",
       "      <td>30.0</td>\n",
       "      <td>35.0</td>\n",
       "      <td>15.0</td>\n",
       "      <td>8.0</td>\n",
       "      <td>45.0</td>\n",
       "      <td>NaN</td>\n",
       "    </tr>\n",
       "    <tr>\n",
       "      <th>store 2</th>\n",
       "      <td>15.0</td>\n",
       "      <td>5.0</td>\n",
       "      <td>10.0</td>\n",
       "      <td>2.0</td>\n",
       "      <td>5.0</td>\n",
       "      <td>7.0</td>\n",
       "      <td>50.0</td>\n",
       "    </tr>\n",
       "    <tr>\n",
       "      <th>store 3</th>\n",
       "      <td>20.0</td>\n",
       "      <td>30.0</td>\n",
       "      <td>35.0</td>\n",
       "      <td>10.0</td>\n",
       "      <td>10.0</td>\n",
       "      <td>4.0</td>\n",
       "      <td>4.0</td>\n",
       "    </tr>\n",
       "  </tbody>\n",
       "</table>\n",
       "</div>"
      ],
      "text/plain": [
       "         bikes  pants  watches  shirts  shoes  suits  glasses\n",
       "store 1   20.0   30.0     35.0    15.0    8.0   45.0      NaN\n",
       "store 2   15.0    5.0     10.0     2.0    5.0    7.0     50.0\n",
       "store 3   20.0   30.0     35.0    10.0   10.0    4.0      4.0"
      ]
     },
     "execution_count": 162,
     "metadata": {},
     "output_type": "execute_result"
    }
   ],
   "source": [
    "# count nan \n",
    "store_items.isnull().sum().sum()\n",
    "store_items.isnull()\n",
    "\n",
    "#count not nan\n",
    "store_items.count()\n",
    "\n",
    "#  remove nan values from rows and columns\n",
    "#store_items.dropna(axis = 1)\n",
    "#store_items.dropna(axis = 0)\n",
    "\n",
    "#store_items.fillna(0)\n",
    "store_items.fillna(method = 'ffill', axis = 0) #forward filling\n",
    "store_items.fillna(method = 'backfill', axis = 1) #backward filling"
   ]
  },
  {
   "cell_type": "code",
   "execution_count": 176,
   "metadata": {},
   "outputs": [],
   "source": [
    "store_items.at['store 1', 'glasses'] = 1 # update dataframe"
   ]
  },
  {
   "cell_type": "code",
   "execution_count": 186,
   "metadata": {},
   "outputs": [
    {
     "data": {
      "text/html": [
       "<div>\n",
       "<style scoped>\n",
       "    .dataframe tbody tr th:only-of-type {\n",
       "        vertical-align: middle;\n",
       "    }\n",
       "\n",
       "    .dataframe tbody tr th {\n",
       "        vertical-align: top;\n",
       "    }\n",
       "\n",
       "    .dataframe thead th {\n",
       "        text-align: right;\n",
       "    }\n",
       "</style>\n",
       "<table border=\"1\" class=\"dataframe\">\n",
       "  <thead>\n",
       "    <tr style=\"text-align: right;\">\n",
       "      <th></th>\n",
       "      <th>bikes</th>\n",
       "      <th>pants</th>\n",
       "      <th>watches</th>\n",
       "      <th>shirts</th>\n",
       "      <th>shoes</th>\n",
       "      <th>suits</th>\n",
       "      <th>glasses</th>\n",
       "      <th>hat</th>\n",
       "    </tr>\n",
       "  </thead>\n",
       "  <tbody>\n",
       "    <tr>\n",
       "      <th>store 1</th>\n",
       "      <td>20.0</td>\n",
       "      <td>30.0</td>\n",
       "      <td>35.0</td>\n",
       "      <td>15.0</td>\n",
       "      <td>8.0</td>\n",
       "      <td>45.0</td>\n",
       "      <td>1.0</td>\n",
       "      <td>NaN</td>\n",
       "    </tr>\n",
       "    <tr>\n",
       "      <th>store 2</th>\n",
       "      <td>15.0</td>\n",
       "      <td>5.0</td>\n",
       "      <td>10.0</td>\n",
       "      <td>10.0</td>\n",
       "      <td>5.0</td>\n",
       "      <td>7.0</td>\n",
       "      <td>50.0</td>\n",
       "      <td>NaN</td>\n",
       "    </tr>\n",
       "    <tr>\n",
       "      <th>store 3</th>\n",
       "      <td>20.0</td>\n",
       "      <td>30.0</td>\n",
       "      <td>35.0</td>\n",
       "      <td>1.0</td>\n",
       "      <td>10.0</td>\n",
       "      <td>1.0</td>\n",
       "      <td>4.0</td>\n",
       "      <td>NaN</td>\n",
       "    </tr>\n",
       "    <tr>\n",
       "      <th>store 4</th>\n",
       "      <td>NaN</td>\n",
       "      <td>NaN</td>\n",
       "      <td>NaN</td>\n",
       "      <td>NaN</td>\n",
       "      <td>NaN</td>\n",
       "      <td>NaN</td>\n",
       "      <td>NaN</td>\n",
       "      <td>10.0</td>\n",
       "    </tr>\n",
       "    <tr>\n",
       "      <th>store 4</th>\n",
       "      <td>NaN</td>\n",
       "      <td>NaN</td>\n",
       "      <td>NaN</td>\n",
       "      <td>NaN</td>\n",
       "      <td>NaN</td>\n",
       "      <td>NaN</td>\n",
       "      <td>NaN</td>\n",
       "      <td>10.0</td>\n",
       "    </tr>\n",
       "  </tbody>\n",
       "</table>\n",
       "</div>"
      ],
      "text/plain": [
       "         bikes  pants  watches  shirts  shoes  suits  glasses   hat\n",
       "store 1   20.0   30.0     35.0    15.0    8.0   45.0      1.0   NaN\n",
       "store 2   15.0    5.0     10.0    10.0    5.0    7.0     50.0   NaN\n",
       "store 3   20.0   30.0     35.0     1.0   10.0    1.0      4.0   NaN\n",
       "store 4    NaN    NaN      NaN     NaN    NaN    NaN      NaN  10.0\n",
       "store 4    NaN    NaN      NaN     NaN    NaN    NaN      NaN  10.0"
      ]
     },
     "execution_count": 186,
     "metadata": {},
     "output_type": "execute_result"
    }
   ],
   "source": [
    "e = [{'hat' : 10}]\n",
    "e_df =  pd.DataFrame(e, index = ['store 4'])\n",
    "store_items = store_items.append(e_df)\n",
    "store_items\n"
   ]
  },
  {
   "cell_type": "code",
   "execution_count": 188,
   "metadata": {},
   "outputs": [
    {
     "data": {
      "text/html": [
       "<div>\n",
       "<style scoped>\n",
       "    .dataframe tbody tr th:only-of-type {\n",
       "        vertical-align: middle;\n",
       "    }\n",
       "\n",
       "    .dataframe tbody tr th {\n",
       "        vertical-align: top;\n",
       "    }\n",
       "\n",
       "    .dataframe thead th {\n",
       "        text-align: right;\n",
       "    }\n",
       "</style>\n",
       "<table border=\"1\" class=\"dataframe\">\n",
       "  <thead>\n",
       "    <tr style=\"text-align: right;\">\n",
       "      <th></th>\n",
       "      <th>bikes</th>\n",
       "      <th>pants</th>\n",
       "      <th>watches</th>\n",
       "      <th>shirts</th>\n",
       "      <th>shoes</th>\n",
       "      <th>suits</th>\n",
       "      <th>glasses</th>\n",
       "      <th>hat</th>\n",
       "    </tr>\n",
       "  </thead>\n",
       "  <tbody>\n",
       "    <tr>\n",
       "      <th>store 1</th>\n",
       "      <td>20.0</td>\n",
       "      <td>30.0</td>\n",
       "      <td>35.0</td>\n",
       "      <td>15.0</td>\n",
       "      <td>8.0</td>\n",
       "      <td>45.0</td>\n",
       "      <td>1.0</td>\n",
       "      <td>1.0</td>\n",
       "    </tr>\n",
       "    <tr>\n",
       "      <th>store 2</th>\n",
       "      <td>15.0</td>\n",
       "      <td>5.0</td>\n",
       "      <td>10.0</td>\n",
       "      <td>10.0</td>\n",
       "      <td>5.0</td>\n",
       "      <td>7.0</td>\n",
       "      <td>50.0</td>\n",
       "      <td>50.0</td>\n",
       "    </tr>\n",
       "    <tr>\n",
       "      <th>store 3</th>\n",
       "      <td>20.0</td>\n",
       "      <td>30.0</td>\n",
       "      <td>35.0</td>\n",
       "      <td>1.0</td>\n",
       "      <td>10.0</td>\n",
       "      <td>1.0</td>\n",
       "      <td>4.0</td>\n",
       "      <td>4.0</td>\n",
       "    </tr>\n",
       "    <tr>\n",
       "      <th>store 4</th>\n",
       "      <td>NaN</td>\n",
       "      <td>NaN</td>\n",
       "      <td>NaN</td>\n",
       "      <td>NaN</td>\n",
       "      <td>NaN</td>\n",
       "      <td>NaN</td>\n",
       "      <td>NaN</td>\n",
       "      <td>10.0</td>\n",
       "    </tr>\n",
       "    <tr>\n",
       "      <th>store 4</th>\n",
       "      <td>NaN</td>\n",
       "      <td>NaN</td>\n",
       "      <td>NaN</td>\n",
       "      <td>NaN</td>\n",
       "      <td>NaN</td>\n",
       "      <td>NaN</td>\n",
       "      <td>NaN</td>\n",
       "      <td>10.0</td>\n",
       "    </tr>\n",
       "  </tbody>\n",
       "</table>\n",
       "</div>"
      ],
      "text/plain": [
       "         bikes  pants  watches  shirts  shoes  suits  glasses   hat\n",
       "store 1   20.0   30.0     35.0    15.0    8.0   45.0      1.0   1.0\n",
       "store 2   15.0    5.0     10.0    10.0    5.0    7.0     50.0  50.0\n",
       "store 3   20.0   30.0     35.0     1.0   10.0    1.0      4.0   4.0\n",
       "store 4    NaN    NaN      NaN     NaN    NaN    NaN      NaN  10.0\n",
       "store 4    NaN    NaN      NaN     NaN    NaN    NaN      NaN  10.0"
      ]
     },
     "execution_count": 188,
     "metadata": {},
     "output_type": "execute_result"
    }
   ],
   "source": [
    "store_items.interpolate(method = 'linear', axis = 1) # fillling NaN by interpolating"
   ]
  },
  {
   "cell_type": "markdown",
   "metadata": {},
   "source": [
    "## Lesson 12 - Loading Data into a Pandas DataFrame"
   ]
  },
  {
   "cell_type": "code",
   "execution_count": 198,
   "metadata": {},
   "outputs": [
    {
     "data": {
      "text/html": [
       "<div>\n",
       "<style scoped>\n",
       "    .dataframe tbody tr th:only-of-type {\n",
       "        vertical-align: middle;\n",
       "    }\n",
       "\n",
       "    .dataframe tbody tr th {\n",
       "        vertical-align: top;\n",
       "    }\n",
       "\n",
       "    .dataframe thead th {\n",
       "        text-align: right;\n",
       "    }\n",
       "</style>\n",
       "<table border=\"1\" class=\"dataframe\">\n",
       "  <thead>\n",
       "    <tr style=\"text-align: right;\">\n",
       "      <th></th>\n",
       "      <th>Open</th>\n",
       "      <th>High</th>\n",
       "      <th>Low</th>\n",
       "      <th>Close</th>\n",
       "      <th>Adj Close</th>\n",
       "      <th>Volume</th>\n",
       "    </tr>\n",
       "  </thead>\n",
       "  <tbody>\n",
       "    <tr>\n",
       "      <th>Open</th>\n",
       "      <td>1.000000</td>\n",
       "      <td>0.999904</td>\n",
       "      <td>0.999845</td>\n",
       "      <td>0.999745</td>\n",
       "      <td>0.999745</td>\n",
       "      <td>-0.564258</td>\n",
       "    </tr>\n",
       "    <tr>\n",
       "      <th>High</th>\n",
       "      <td>0.999904</td>\n",
       "      <td>1.000000</td>\n",
       "      <td>0.999834</td>\n",
       "      <td>0.999868</td>\n",
       "      <td>0.999868</td>\n",
       "      <td>-0.562749</td>\n",
       "    </tr>\n",
       "    <tr>\n",
       "      <th>Low</th>\n",
       "      <td>0.999845</td>\n",
       "      <td>0.999834</td>\n",
       "      <td>1.000000</td>\n",
       "      <td>0.999899</td>\n",
       "      <td>0.999899</td>\n",
       "      <td>-0.567007</td>\n",
       "    </tr>\n",
       "    <tr>\n",
       "      <th>Close</th>\n",
       "      <td>0.999745</td>\n",
       "      <td>0.999868</td>\n",
       "      <td>0.999899</td>\n",
       "      <td>1.000000</td>\n",
       "      <td>1.000000</td>\n",
       "      <td>-0.564967</td>\n",
       "    </tr>\n",
       "    <tr>\n",
       "      <th>Adj Close</th>\n",
       "      <td>0.999745</td>\n",
       "      <td>0.999868</td>\n",
       "      <td>0.999899</td>\n",
       "      <td>1.000000</td>\n",
       "      <td>1.000000</td>\n",
       "      <td>-0.564967</td>\n",
       "    </tr>\n",
       "    <tr>\n",
       "      <th>Volume</th>\n",
       "      <td>-0.564258</td>\n",
       "      <td>-0.562749</td>\n",
       "      <td>-0.567007</td>\n",
       "      <td>-0.564967</td>\n",
       "      <td>-0.564967</td>\n",
       "      <td>1.000000</td>\n",
       "    </tr>\n",
       "  </tbody>\n",
       "</table>\n",
       "</div>"
      ],
      "text/plain": [
       "               Open      High       Low     Close  Adj Close    Volume\n",
       "Open       1.000000  0.999904  0.999845  0.999745   0.999745 -0.564258\n",
       "High       0.999904  1.000000  0.999834  0.999868   0.999868 -0.562749\n",
       "Low        0.999845  0.999834  1.000000  0.999899   0.999899 -0.567007\n",
       "Close      0.999745  0.999868  0.999899  1.000000   1.000000 -0.564967\n",
       "Adj Close  0.999745  0.999868  0.999899  1.000000   1.000000 -0.564967\n",
       "Volume    -0.564258 -0.562749 -0.567007 -0.564967  -0.564967  1.000000"
      ]
     },
     "execution_count": 198,
     "metadata": {},
     "output_type": "execute_result"
    }
   ],
   "source": [
    "google_df = pd.read_csv('GOOG.csv')\n",
    "google_df.isnull().any()\n",
    "google_df.describe()\n",
    "google_df['Low'].describe()\n",
    "google_df.max()\n",
    "google_df['Low'].max()\n",
    "google_df.corr()\n",
    "\n",
    "# dataframe.groupby(['Year'])['Salary'].sum()"
   ]
  },
  {
   "cell_type": "code",
   "execution_count": null,
   "metadata": {},
   "outputs": [],
   "source": []
  }
 ],
 "metadata": {
  "kernelspec": {
   "display_name": "Python [conda env:jupyter1] *",
   "language": "python",
   "name": "conda-env-jupyter1-py"
  },
  "language_info": {
   "codemirror_mode": {
    "name": "ipython",
    "version": 3
   },
   "file_extension": ".py",
   "mimetype": "text/x-python",
   "name": "python",
   "nbconvert_exporter": "python",
   "pygments_lexer": "ipython3",
   "version": "3.6.8"
  }
 },
 "nbformat": 4,
 "nbformat_minor": 4
}
